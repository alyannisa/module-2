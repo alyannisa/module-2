{
 "cells": [
  {
   "cell_type": "markdown",
   "metadata": {},
   "source": [
    "<center><h1>Module 2 Assignment</h1></center>"
   ]
  },
  {
   "cell_type": "markdown",
   "metadata": {},
   "source": [
    "# Choose a dataset\n",
    "\n",
    "Choose a dataset from [NYC Open Data](https://opendata.cityofnewyork.us/) that is available in CSV format (look at the format labels in the list of datasets). Choose one that has at least 2 numerical value columns and 1 string value column. \n",
    "\n",
    "If it's a CSV file you may be able to directly read it with pandas\n",
    "```\n",
    "pd.read_csv(url)\n",
    "```\n",
    "\n",
    "If it is a compressed file (.zip, .gz, etc.), download the zip and unpack it, then read it in with pandas\n",
    "```\n",
    "pd.read_csv(<filename>.csv)\n",
    "```"
   ]
  },
  {
   "cell_type": "code",
   "execution_count": 3,
   "metadata": {},
   "outputs": [],
   "source": [
    "import pandas as pd\n",
    "import numpy as np\n",
    "import matplotlib.pyplot as plt\n",
    "\n",
    "#read the data\n",
    "school = pd.read_csv('schoolSAT.csv')"
   ]
  },
  {
   "cell_type": "markdown",
   "metadata": {},
   "source": [
    "## Display top 7 rows of the dataframe in your notebook"
   ]
  },
  {
   "cell_type": "code",
   "execution_count": 4,
   "metadata": {},
   "outputs": [
    {
     "data": {
      "text/html": [
       "<div>\n",
       "<style scoped>\n",
       "    .dataframe tbody tr th:only-of-type {\n",
       "        vertical-align: middle;\n",
       "    }\n",
       "\n",
       "    .dataframe tbody tr th {\n",
       "        vertical-align: top;\n",
       "    }\n",
       "\n",
       "    .dataframe thead th {\n",
       "        text-align: right;\n",
       "    }\n",
       "</style>\n",
       "<table border=\"1\" class=\"dataframe\">\n",
       "  <thead>\n",
       "    <tr style=\"text-align: right;\">\n",
       "      <th></th>\n",
       "      <th>DBN</th>\n",
       "      <th>School Name</th>\n",
       "      <th>Number of Test Takers</th>\n",
       "      <th>Critical Reading Mean</th>\n",
       "      <th>Mathematics Mean</th>\n",
       "      <th>Writing Mean</th>\n",
       "    </tr>\n",
       "  </thead>\n",
       "  <tbody>\n",
       "    <tr>\n",
       "      <th>0</th>\n",
       "      <td>01M292</td>\n",
       "      <td>Henry Street School for International Studies</td>\n",
       "      <td>31.0</td>\n",
       "      <td>391.0</td>\n",
       "      <td>425.0</td>\n",
       "      <td>385.0</td>\n",
       "    </tr>\n",
       "    <tr>\n",
       "      <th>1</th>\n",
       "      <td>01M448</td>\n",
       "      <td>University Neighborhood High School</td>\n",
       "      <td>60.0</td>\n",
       "      <td>394.0</td>\n",
       "      <td>419.0</td>\n",
       "      <td>387.0</td>\n",
       "    </tr>\n",
       "    <tr>\n",
       "      <th>2</th>\n",
       "      <td>01M450</td>\n",
       "      <td>East Side Community High School</td>\n",
       "      <td>69.0</td>\n",
       "      <td>418.0</td>\n",
       "      <td>431.0</td>\n",
       "      <td>402.0</td>\n",
       "    </tr>\n",
       "    <tr>\n",
       "      <th>3</th>\n",
       "      <td>01M458</td>\n",
       "      <td>SATELLITE ACADEMY FORSYTH ST</td>\n",
       "      <td>26.0</td>\n",
       "      <td>385.0</td>\n",
       "      <td>370.0</td>\n",
       "      <td>378.0</td>\n",
       "    </tr>\n",
       "    <tr>\n",
       "      <th>4</th>\n",
       "      <td>01M509</td>\n",
       "      <td>CMSP HIGH SCHOOL</td>\n",
       "      <td>NaN</td>\n",
       "      <td>NaN</td>\n",
       "      <td>NaN</td>\n",
       "      <td>NaN</td>\n",
       "    </tr>\n",
       "    <tr>\n",
       "      <th>5</th>\n",
       "      <td>01M515</td>\n",
       "      <td>Lower East Side Preparatory High School</td>\n",
       "      <td>154.0</td>\n",
       "      <td>314.0</td>\n",
       "      <td>532.0</td>\n",
       "      <td>314.0</td>\n",
       "    </tr>\n",
       "    <tr>\n",
       "      <th>6</th>\n",
       "      <td>01M539</td>\n",
       "      <td>New Explorations into Sci, Tech and Math HS</td>\n",
       "      <td>47.0</td>\n",
       "      <td>568.0</td>\n",
       "      <td>583.0</td>\n",
       "      <td>568.0</td>\n",
       "    </tr>\n",
       "  </tbody>\n",
       "</table>\n",
       "</div>"
      ],
      "text/plain": [
       "      DBN                                     School Name  \\\n",
       "0  01M292  Henry Street School for International Studies    \n",
       "1  01M448            University Neighborhood High School    \n",
       "2  01M450                East Side Community High School    \n",
       "3  01M458                   SATELLITE ACADEMY FORSYTH ST    \n",
       "4  01M509                               CMSP HIGH SCHOOL    \n",
       "5  01M515        Lower East Side Preparatory High School    \n",
       "6  01M539    New Explorations into Sci, Tech and Math HS    \n",
       "\n",
       "   Number of Test Takers  Critical Reading Mean  Mathematics Mean  \\\n",
       "0                   31.0                  391.0             425.0   \n",
       "1                   60.0                  394.0             419.0   \n",
       "2                   69.0                  418.0             431.0   \n",
       "3                   26.0                  385.0             370.0   \n",
       "4                    NaN                    NaN               NaN   \n",
       "5                  154.0                  314.0             532.0   \n",
       "6                   47.0                  568.0             583.0   \n",
       "\n",
       "   Writing Mean  \n",
       "0         385.0  \n",
       "1         387.0  \n",
       "2         402.0  \n",
       "3         378.0  \n",
       "4           NaN  \n",
       "5         314.0  \n",
       "6         568.0  "
      ]
     },
     "execution_count": 4,
     "metadata": {},
     "output_type": "execute_result"
    }
   ],
   "source": [
    "school.head(7)"
   ]
  },
  {
   "cell_type": "markdown",
   "metadata": {},
   "source": [
    "## Count number of null values (if any) for each column"
   ]
  },
  {
   "cell_type": "code",
   "execution_count": 5,
   "metadata": {},
   "outputs": [
    {
     "data": {
      "text/plain": [
       "DBN                       0\n",
       "School Name               0\n",
       "Number of Test Takers    74\n",
       "Critical Reading Mean    74\n",
       "Mathematics Mean         74\n",
       "Writing Mean             74\n",
       "dtype: int64"
      ]
     },
     "execution_count": 5,
     "metadata": {},
     "output_type": "execute_result"
    }
   ],
   "source": [
    "school.isnull().sum()"
   ]
  },
  {
   "cell_type": "markdown",
   "metadata": {},
   "source": [
    "## Remove all but 2 numerical values columns of your choice and display the reducted dataframe."
   ]
  },
  {
   "cell_type": "code",
   "execution_count": 6,
   "metadata": {},
   "outputs": [
    {
     "data": {
      "text/html": [
       "<div>\n",
       "<style scoped>\n",
       "    .dataframe tbody tr th:only-of-type {\n",
       "        vertical-align: middle;\n",
       "    }\n",
       "\n",
       "    .dataframe tbody tr th {\n",
       "        vertical-align: top;\n",
       "    }\n",
       "\n",
       "    .dataframe thead th {\n",
       "        text-align: right;\n",
       "    }\n",
       "</style>\n",
       "<table border=\"1\" class=\"dataframe\">\n",
       "  <thead>\n",
       "    <tr style=\"text-align: right;\">\n",
       "      <th></th>\n",
       "      <th>School Name</th>\n",
       "      <th>Number of Test Takers</th>\n",
       "      <th>Critical Reading Mean</th>\n",
       "    </tr>\n",
       "  </thead>\n",
       "  <tbody>\n",
       "    <tr>\n",
       "      <th>0</th>\n",
       "      <td>Henry Street School for International Studies</td>\n",
       "      <td>31.0</td>\n",
       "      <td>391.0</td>\n",
       "    </tr>\n",
       "    <tr>\n",
       "      <th>1</th>\n",
       "      <td>University Neighborhood High School</td>\n",
       "      <td>60.0</td>\n",
       "      <td>394.0</td>\n",
       "    </tr>\n",
       "    <tr>\n",
       "      <th>2</th>\n",
       "      <td>East Side Community High School</td>\n",
       "      <td>69.0</td>\n",
       "      <td>418.0</td>\n",
       "    </tr>\n",
       "    <tr>\n",
       "      <th>3</th>\n",
       "      <td>SATELLITE ACADEMY FORSYTH ST</td>\n",
       "      <td>26.0</td>\n",
       "      <td>385.0</td>\n",
       "    </tr>\n",
       "    <tr>\n",
       "      <th>4</th>\n",
       "      <td>CMSP HIGH SCHOOL</td>\n",
       "      <td>NaN</td>\n",
       "      <td>NaN</td>\n",
       "    </tr>\n",
       "    <tr>\n",
       "      <th>5</th>\n",
       "      <td>Lower East Side Preparatory High School</td>\n",
       "      <td>154.0</td>\n",
       "      <td>314.0</td>\n",
       "    </tr>\n",
       "    <tr>\n",
       "      <th>6</th>\n",
       "      <td>New Explorations into Sci, Tech and Math HS</td>\n",
       "      <td>47.0</td>\n",
       "      <td>568.0</td>\n",
       "    </tr>\n",
       "  </tbody>\n",
       "</table>\n",
       "</div>"
      ],
      "text/plain": [
       "                                      School Name  Number of Test Takers  \\\n",
       "0  Henry Street School for International Studies                    31.0   \n",
       "1            University Neighborhood High School                    60.0   \n",
       "2                East Side Community High School                    69.0   \n",
       "3                   SATELLITE ACADEMY FORSYTH ST                    26.0   \n",
       "4                               CMSP HIGH SCHOOL                     NaN   \n",
       "5        Lower East Side Preparatory High School                   154.0   \n",
       "6    New Explorations into Sci, Tech and Math HS                    47.0   \n",
       "\n",
       "   Critical Reading Mean  \n",
       "0                  391.0  \n",
       "1                  394.0  \n",
       "2                  418.0  \n",
       "3                  385.0  \n",
       "4                    NaN  \n",
       "5                  314.0  \n",
       "6                  568.0  "
      ]
     },
     "execution_count": 6,
     "metadata": {},
     "output_type": "execute_result"
    }
   ],
   "source": [
    "school = school[['School Name','Number of Test Takers','Critical Reading Mean']]\n",
    "school.head(7)"
   ]
  },
  {
   "cell_type": "code",
   "execution_count": 7,
   "metadata": {},
   "outputs": [
    {
     "data": {
      "text/html": [
       "<div>\n",
       "<style scoped>\n",
       "    .dataframe tbody tr th:only-of-type {\n",
       "        vertical-align: middle;\n",
       "    }\n",
       "\n",
       "    .dataframe tbody tr th {\n",
       "        vertical-align: top;\n",
       "    }\n",
       "\n",
       "    .dataframe thead th {\n",
       "        text-align: right;\n",
       "    }\n",
       "</style>\n",
       "<table border=\"1\" class=\"dataframe\">\n",
       "  <thead>\n",
       "    <tr style=\"text-align: right;\">\n",
       "      <th></th>\n",
       "      <th>School Name</th>\n",
       "      <th>Number of Test Takers</th>\n",
       "      <th>Critical Reading Mean</th>\n",
       "    </tr>\n",
       "  </thead>\n",
       "  <tbody>\n",
       "    <tr>\n",
       "      <th>0</th>\n",
       "      <td>Henry Street School for International Studies</td>\n",
       "      <td>31.0</td>\n",
       "      <td>391.0</td>\n",
       "    </tr>\n",
       "    <tr>\n",
       "      <th>1</th>\n",
       "      <td>University Neighborhood High School</td>\n",
       "      <td>60.0</td>\n",
       "      <td>394.0</td>\n",
       "    </tr>\n",
       "    <tr>\n",
       "      <th>2</th>\n",
       "      <td>East Side Community High School</td>\n",
       "      <td>69.0</td>\n",
       "      <td>418.0</td>\n",
       "    </tr>\n",
       "    <tr>\n",
       "      <th>3</th>\n",
       "      <td>SATELLITE ACADEMY FORSYTH ST</td>\n",
       "      <td>26.0</td>\n",
       "      <td>385.0</td>\n",
       "    </tr>\n",
       "    <tr>\n",
       "      <th>5</th>\n",
       "      <td>Lower East Side Preparatory High School</td>\n",
       "      <td>154.0</td>\n",
       "      <td>314.0</td>\n",
       "    </tr>\n",
       "  </tbody>\n",
       "</table>\n",
       "</div>"
      ],
      "text/plain": [
       "                                      School Name  Number of Test Takers  \\\n",
       "0  Henry Street School for International Studies                    31.0   \n",
       "1            University Neighborhood High School                    60.0   \n",
       "2                East Side Community High School                    69.0   \n",
       "3                   SATELLITE ACADEMY FORSYTH ST                    26.0   \n",
       "5        Lower East Side Preparatory High School                   154.0   \n",
       "\n",
       "   Critical Reading Mean  \n",
       "0                  391.0  \n",
       "1                  394.0  \n",
       "2                  418.0  \n",
       "3                  385.0  \n",
       "5                  314.0  "
      ]
     },
     "execution_count": 7,
     "metadata": {},
     "output_type": "execute_result"
    }
   ],
   "source": [
    "#drop the null values in each row\n",
    "school.dropna(inplace=True)\n",
    "school.head()"
   ]
  },
  {
   "cell_type": "markdown",
   "metadata": {},
   "source": [
    "## Display the average, median, and standard deviation of each of your numerical columns"
   ]
  },
  {
   "cell_type": "code",
   "execution_count": 8,
   "metadata": {},
   "outputs": [
    {
     "data": {
      "text/html": [
       "<div>\n",
       "<style scoped>\n",
       "    .dataframe tbody tr th:only-of-type {\n",
       "        vertical-align: middle;\n",
       "    }\n",
       "\n",
       "    .dataframe tbody tr th {\n",
       "        vertical-align: top;\n",
       "    }\n",
       "\n",
       "    .dataframe thead th {\n",
       "        text-align: right;\n",
       "    }\n",
       "</style>\n",
       "<table border=\"1\" class=\"dataframe\">\n",
       "  <thead>\n",
       "    <tr style=\"text-align: right;\">\n",
       "      <th></th>\n",
       "      <th>Number of Test Takers</th>\n",
       "      <th>Critical Reading Mean</th>\n",
       "    </tr>\n",
       "  </thead>\n",
       "  <tbody>\n",
       "    <tr>\n",
       "      <th>count</th>\n",
       "      <td>386.000000</td>\n",
       "      <td>386.000000</td>\n",
       "    </tr>\n",
       "    <tr>\n",
       "      <th>mean</th>\n",
       "      <td>103.658031</td>\n",
       "      <td>404.248705</td>\n",
       "    </tr>\n",
       "    <tr>\n",
       "      <th>std</th>\n",
       "      <td>145.264496</td>\n",
       "      <td>56.815631</td>\n",
       "    </tr>\n",
       "    <tr>\n",
       "      <th>min</th>\n",
       "      <td>7.000000</td>\n",
       "      <td>291.000000</td>\n",
       "    </tr>\n",
       "    <tr>\n",
       "      <th>25%</th>\n",
       "      <td>35.000000</td>\n",
       "      <td>370.000000</td>\n",
       "    </tr>\n",
       "    <tr>\n",
       "      <th>50%</th>\n",
       "      <td>54.000000</td>\n",
       "      <td>392.500000</td>\n",
       "    </tr>\n",
       "    <tr>\n",
       "      <th>75%</th>\n",
       "      <td>92.750000</td>\n",
       "      <td>419.000000</td>\n",
       "    </tr>\n",
       "    <tr>\n",
       "      <th>max</th>\n",
       "      <td>1047.000000</td>\n",
       "      <td>674.000000</td>\n",
       "    </tr>\n",
       "  </tbody>\n",
       "</table>\n",
       "</div>"
      ],
      "text/plain": [
       "       Number of Test Takers  Critical Reading Mean\n",
       "count             386.000000             386.000000\n",
       "mean              103.658031             404.248705\n",
       "std               145.264496              56.815631\n",
       "min                 7.000000             291.000000\n",
       "25%                35.000000             370.000000\n",
       "50%                54.000000             392.500000\n",
       "75%                92.750000             419.000000\n",
       "max              1047.000000             674.000000"
      ]
     },
     "execution_count": 8,
     "metadata": {},
     "output_type": "execute_result"
    }
   ],
   "source": [
    "school.describe()"
   ]
  },
  {
   "cell_type": "markdown",
   "metadata": {},
   "source": [
    "## Plot two of the numerical columns one against the other in a scatter plot"
   ]
  },
  {
   "cell_type": "code",
   "execution_count": 9,
   "metadata": {},
   "outputs": [
    {
     "data": {
      "text/plain": [
       "<function matplotlib.pyplot.show(close=None, block=None)>"
      ]
     },
     "execution_count": 9,
     "metadata": {},
     "output_type": "execute_result"
    },
    {
     "data": {
      "image/png": "[encoded data removed]",
      "text/plain": [
       "<Figure size 432x288 with 1 Axes>"
      ]
     },
     "metadata": {
      "needs_background": "light"
     },
     "output_type": "display_data"
    }
   ],
   "source": [
    "takers = school['Number of Test Takers']\n",
    "read = school['Critical Reading Mean']\n",
    "plt.scatter(x=read, y=takers)\n",
    "plt.ylabel('Number of Test Takers')\n",
    "plt.xlabel('Critical Reading Mean')\n",
    "plt.show"
   ]
  },
  {
   "cell_type": "markdown",
   "metadata": {},
   "source": [
    "## Plot the data distribution of all your numerical columns in histogram and boxplot"
   ]
  },
  {
   "cell_type": "code",
   "execution_count": 12,
   "metadata": {},
   "outputs": [
    {
     "data": {
      "image/png": "[encoded data removed]",
      "text/plain": [
       "<Figure size 432x288 with 2 Axes>"
      ]
     },
     "metadata": {
      "needs_background": "light"
     },
     "output_type": "display_data"
    }
   ],
   "source": [
    "new_school = school[['Number of Test Takers','Critical Reading Mean']]\n",
    "new_school.hist()\n",
    "\n",
    "plt.show()"
   ]
  },
  {
   "cell_type": "code",
   "execution_count": 13,
   "metadata": {},
   "outputs": [
    {
     "data": {
      "image/png": "[encoded data removed]",
      "text/plain": [
       "<Figure size 720x504 with 1 Axes>"
      ]
     },
     "metadata": {
      "needs_background": "light"
     },
     "output_type": "display_data"
    }
   ],
   "source": [
    "fig = plt.figure(figsize =(10, 7))\n",
    "\n",
    "new_school.boxplot()\n",
    "\n",
    "plt.show()"
   ]
  },
  {
   "cell_type": "markdown",
   "metadata": {},
   "source": [
    "## Create a new column in the same dataframe that is raised power of two of an existing column\n",
    "Example:\n",
    "![power_of_two](images/ex1.jpeg)\n"
   ]
  },
  {
   "cell_type": "code",
   "execution_count": 14,
   "metadata": {},
   "outputs": [
    {
     "data": {
      "text/html": [
       "<div>\n",
       "<style scoped>\n",
       "    .dataframe tbody tr th:only-of-type {\n",
       "        vertical-align: middle;\n",
       "    }\n",
       "\n",
       "    .dataframe tbody tr th {\n",
       "        vertical-align: top;\n",
       "    }\n",
       "\n",
       "    .dataframe thead th {\n",
       "        text-align: right;\n",
       "    }\n",
       "</style>\n",
       "<table border=\"1\" class=\"dataframe\">\n",
       "  <thead>\n",
       "    <tr style=\"text-align: right;\">\n",
       "      <th></th>\n",
       "      <th>School Name</th>\n",
       "      <th>Number of Test Takers</th>\n",
       "      <th>Critical Reading Mean</th>\n",
       "      <th>Power of Test Takers</th>\n",
       "    </tr>\n",
       "  </thead>\n",
       "  <tbody>\n",
       "    <tr>\n",
       "      <th>0</th>\n",
       "      <td>Henry Street School for International Studies</td>\n",
       "      <td>31.0</td>\n",
       "      <td>391.0</td>\n",
       "      <td>961.0</td>\n",
       "    </tr>\n",
       "    <tr>\n",
       "      <th>1</th>\n",
       "      <td>University Neighborhood High School</td>\n",
       "      <td>60.0</td>\n",
       "      <td>394.0</td>\n",
       "      <td>3600.0</td>\n",
       "    </tr>\n",
       "    <tr>\n",
       "      <th>2</th>\n",
       "      <td>East Side Community High School</td>\n",
       "      <td>69.0</td>\n",
       "      <td>418.0</td>\n",
       "      <td>4761.0</td>\n",
       "    </tr>\n",
       "    <tr>\n",
       "      <th>3</th>\n",
       "      <td>SATELLITE ACADEMY FORSYTH ST</td>\n",
       "      <td>26.0</td>\n",
       "      <td>385.0</td>\n",
       "      <td>676.0</td>\n",
       "    </tr>\n",
       "    <tr>\n",
       "      <th>5</th>\n",
       "      <td>Lower East Side Preparatory High School</td>\n",
       "      <td>154.0</td>\n",
       "      <td>314.0</td>\n",
       "      <td>23716.0</td>\n",
       "    </tr>\n",
       "  </tbody>\n",
       "</table>\n",
       "</div>"
      ],
      "text/plain": [
       "                                      School Name  Number of Test Takers  \\\n",
       "0  Henry Street School for International Studies                    31.0   \n",
       "1            University Neighborhood High School                    60.0   \n",
       "2                East Side Community High School                    69.0   \n",
       "3                   SATELLITE ACADEMY FORSYTH ST                    26.0   \n",
       "5        Lower East Side Preparatory High School                   154.0   \n",
       "\n",
       "   Critical Reading Mean  Power of Test Takers  \n",
       "0                  391.0                 961.0  \n",
       "1                  394.0                3600.0  \n",
       "2                  418.0                4761.0  \n",
       "3                  385.0                 676.0  \n",
       "5                  314.0               23716.0  "
      ]
     },
     "execution_count": 14,
     "metadata": {},
     "output_type": "execute_result"
    }
   ],
   "source": [
    "#create a new column with name power of Test Takers\n",
    "school['Power of Test Takers'] = np.power((school['Number of Test Takers']),2)\n",
    "school.head()"
   ]
  },
  {
   "cell_type": "markdown",
   "metadata": {},
   "source": [
    "# Citi Bike investigation\n",
    "![citi-bike](images/citibike.jpeg)\n",
    ">Citi Bike is the largest bike share program in the US, with 20,000 bikes and over 1,300 stations across Manhattan, Brooklyn, Queens, the Bronx and Jersey City. It was designed for quick trips with convenience in mind, and it’s a fun and affordable way to get around town."
   ]
  },
  {
   "cell_type": "markdown",
   "metadata": {},
   "source": [
    "## Choose a citibikes dataset (one or two months, earlier datasets are convenient because they are smaller)"
   ]
  },
  {
   "cell_type": "markdown",
   "metadata": {},
   "source": [
    "Example for downloading September 2017 Citibike data:\n",
    "```\n",
    "! month=201709\n",
    "! curl https://s3.amazonaws.com/tripdata/$month-citibike-tripdata.csv.zip >> $month-citibike-tripdata.csv.zip\n",
    "! unzip $month-citibike-tripdata.csv.zip\n",
    "```"
   ]
  },
  {
   "cell_type": "code",
   "execution_count": 1,
   "metadata": {},
   "outputs": [
    {
     "name": "stdout",
     "output_type": "stream",
     "text": [
      "<class 'pandas.core.frame.DataFrame'>\n",
      "RangeIndex: 1878098 entries, 0 to 1878097\n",
      "Data columns (total 15 columns):\n",
      " #   Column                   Dtype  \n",
      "---  ------                   -----  \n",
      " 0   tripduration             int64  \n",
      " 1   starttime                object \n",
      " 2   stoptime                 object \n",
      " 3   start station id         int64  \n",
      " 4   start station name       object \n",
      " 5   start station latitude   float64\n",
      " 6   start station longitude  float64\n",
      " 7   end station id           int64  \n",
      " 8   end station name         object \n",
      " 9   end station latitude     float64\n",
      " 10  end station longitude    float64\n",
      " 11  bikeid                   int64  \n",
      " 12  usertype                 object \n",
      " 13  birth year               float64\n",
      " 14  gender                   int64  \n",
      "dtypes: float64(5), int64(5), object(5)\n",
      "memory usage: 214.9+ MB\n"
     ]
    },
    {
     "data": {
      "text/html": [
       "<div>\n",
       "<style scoped>\n",
       "    .dataframe tbody tr th:only-of-type {\n",
       "        vertical-align: middle;\n",
       "    }\n",
       "\n",
       "    .dataframe tbody tr th {\n",
       "        vertical-align: top;\n",
       "    }\n",
       "\n",
       "    .dataframe thead th {\n",
       "        text-align: right;\n",
       "    }\n",
       "</style>\n",
       "<table border=\"1\" class=\"dataframe\">\n",
       "  <thead>\n",
       "    <tr style=\"text-align: right;\">\n",
       "      <th></th>\n",
       "      <th>tripduration</th>\n",
       "      <th>starttime</th>\n",
       "      <th>stoptime</th>\n",
       "      <th>start station id</th>\n",
       "      <th>start station name</th>\n",
       "      <th>start station latitude</th>\n",
       "      <th>start station longitude</th>\n",
       "      <th>end station id</th>\n",
       "      <th>end station name</th>\n",
       "      <th>end station latitude</th>\n",
       "      <th>end station longitude</th>\n",
       "      <th>bikeid</th>\n",
       "      <th>usertype</th>\n",
       "      <th>birth year</th>\n",
       "      <th>gender</th>\n",
       "    </tr>\n",
       "  </thead>\n",
       "  <tbody>\n",
       "    <tr>\n",
       "      <th>0</th>\n",
       "      <td>362</td>\n",
       "      <td>2017-09-01 00:00:17</td>\n",
       "      <td>2017-09-01 00:06:19</td>\n",
       "      <td>3331</td>\n",
       "      <td>Riverside Dr &amp; W 104 St</td>\n",
       "      <td>40.801343</td>\n",
       "      <td>-73.971146</td>\n",
       "      <td>3328</td>\n",
       "      <td>W 100 St &amp; Manhattan Ave</td>\n",
       "      <td>40.795000</td>\n",
       "      <td>-73.964500</td>\n",
       "      <td>14530</td>\n",
       "      <td>Subscriber</td>\n",
       "      <td>1993.0</td>\n",
       "      <td>1</td>\n",
       "    </tr>\n",
       "    <tr>\n",
       "      <th>1</th>\n",
       "      <td>188</td>\n",
       "      <td>2017-09-01 00:00:21</td>\n",
       "      <td>2017-09-01 00:03:30</td>\n",
       "      <td>3101</td>\n",
       "      <td>N 12 St &amp; Bedford Ave</td>\n",
       "      <td>40.720798</td>\n",
       "      <td>-73.954847</td>\n",
       "      <td>3100</td>\n",
       "      <td>Nassau Ave &amp; Newell St</td>\n",
       "      <td>40.724813</td>\n",
       "      <td>-73.947526</td>\n",
       "      <td>15475</td>\n",
       "      <td>Subscriber</td>\n",
       "      <td>1988.0</td>\n",
       "      <td>1</td>\n",
       "    </tr>\n",
       "    <tr>\n",
       "      <th>2</th>\n",
       "      <td>305</td>\n",
       "      <td>2017-09-01 00:00:25</td>\n",
       "      <td>2017-09-01 00:05:30</td>\n",
       "      <td>3140</td>\n",
       "      <td>1 Ave &amp; E 78 St</td>\n",
       "      <td>40.771404</td>\n",
       "      <td>-73.953517</td>\n",
       "      <td>3141</td>\n",
       "      <td>1 Ave &amp; E 68 St</td>\n",
       "      <td>40.765005</td>\n",
       "      <td>-73.958185</td>\n",
       "      <td>30346</td>\n",
       "      <td>Subscriber</td>\n",
       "      <td>1969.0</td>\n",
       "      <td>1</td>\n",
       "    </tr>\n",
       "    <tr>\n",
       "      <th>3</th>\n",
       "      <td>223</td>\n",
       "      <td>2017-09-01 00:00:52</td>\n",
       "      <td>2017-09-01 00:04:36</td>\n",
       "      <td>236</td>\n",
       "      <td>St Marks Pl &amp; 2 Ave</td>\n",
       "      <td>40.728419</td>\n",
       "      <td>-73.987140</td>\n",
       "      <td>473</td>\n",
       "      <td>Rivington St &amp; Chrystie St</td>\n",
       "      <td>40.721101</td>\n",
       "      <td>-73.991925</td>\n",
       "      <td>28056</td>\n",
       "      <td>Subscriber</td>\n",
       "      <td>1993.0</td>\n",
       "      <td>1</td>\n",
       "    </tr>\n",
       "    <tr>\n",
       "      <th>4</th>\n",
       "      <td>758</td>\n",
       "      <td>2017-09-01 00:01:01</td>\n",
       "      <td>2017-09-01 00:13:40</td>\n",
       "      <td>3427</td>\n",
       "      <td>Lafayette St &amp; Jersey St</td>\n",
       "      <td>40.724305</td>\n",
       "      <td>-73.996010</td>\n",
       "      <td>3431</td>\n",
       "      <td>E 35 St &amp; 3 Ave</td>\n",
       "      <td>40.746524</td>\n",
       "      <td>-73.977885</td>\n",
       "      <td>25413</td>\n",
       "      <td>Subscriber</td>\n",
       "      <td>1987.0</td>\n",
       "      <td>1</td>\n",
       "    </tr>\n",
       "  </tbody>\n",
       "</table>\n",
       "</div>"
      ],
      "text/plain": [
       "   tripduration            starttime             stoptime  start station id  \\\n",
       "0           362  2017-09-01 00:00:17  2017-09-01 00:06:19              3331   \n",
       "1           188  2017-09-01 00:00:21  2017-09-01 00:03:30              3101   \n",
       "2           305  2017-09-01 00:00:25  2017-09-01 00:05:30              3140   \n",
       "3           223  2017-09-01 00:00:52  2017-09-01 00:04:36               236   \n",
       "4           758  2017-09-01 00:01:01  2017-09-01 00:13:40              3427   \n",
       "\n",
       "         start station name  start station latitude  start station longitude  \\\n",
       "0   Riverside Dr & W 104 St               40.801343               -73.971146   \n",
       "1     N 12 St & Bedford Ave               40.720798               -73.954847   \n",
       "2           1 Ave & E 78 St               40.771404               -73.953517   \n",
       "3       St Marks Pl & 2 Ave               40.728419               -73.987140   \n",
       "4  Lafayette St & Jersey St               40.724305               -73.996010   \n",
       "\n",
       "   end station id            end station name  end station latitude  \\\n",
       "0            3328    W 100 St & Manhattan Ave             40.795000   \n",
       "1            3100      Nassau Ave & Newell St             40.724813   \n",
       "2            3141             1 Ave & E 68 St             40.765005   \n",
       "3             473  Rivington St & Chrystie St             40.721101   \n",
       "4            3431             E 35 St & 3 Ave             40.746524   \n",
       "\n",
       "   end station longitude  bikeid    usertype  birth year  gender  \n",
       "0             -73.964500   14530  Subscriber      1993.0       1  \n",
       "1             -73.947526   15475  Subscriber      1988.0       1  \n",
       "2             -73.958185   30346  Subscriber      1969.0       1  \n",
       "3             -73.991925   28056  Subscriber      1993.0       1  \n",
       "4             -73.977885   25413  Subscriber      1987.0       1  "
      ]
     },
     "execution_count": 1,
     "metadata": {},
     "output_type": "execute_result"
    }
   ],
   "source": [
    "import pandas as pd\n",
    "import numpy as np\n",
    "import matplotlib.pyplot as plt\n",
    "\n",
    "bike = pd.read_csv('201709-citibike-tripdata.csv')\n",
    "bike.info()\n",
    "bike.head()"
   ]
  },
  {
   "cell_type": "markdown",
   "metadata": {},
   "source": [
    "## Count the number of missing values of each column"
   ]
  },
  {
   "cell_type": "code",
   "execution_count": 170,
   "metadata": {},
   "outputs": [
    {
     "data": {
      "text/plain": [
       "tripduration                    0\n",
       "starttime                       0\n",
       "stoptime                        0\n",
       "start station id                0\n",
       "start station name              0\n",
       "start station latitude          0\n",
       "start station longitude         0\n",
       "end station id                  0\n",
       "end station name                0\n",
       "end station latitude            0\n",
       "end station longitude           0\n",
       "bikeid                          0\n",
       "usertype                        0\n",
       "birth year                 207468\n",
       "gender                          0\n",
       "dtype: int64"
      ]
     },
     "execution_count": 170,
     "metadata": {},
     "output_type": "execute_result"
    }
   ],
   "source": [
    "bike.isna().sum()"
   ]
  },
  {
   "cell_type": "code",
   "execution_count": 171,
   "metadata": {},
   "outputs": [
    {
     "data": {
      "text/html": [
       "<div>\n",
       "<style scoped>\n",
       "    .dataframe tbody tr th:only-of-type {\n",
       "        vertical-align: middle;\n",
       "    }\n",
       "\n",
       "    .dataframe tbody tr th {\n",
       "        vertical-align: top;\n",
       "    }\n",
       "\n",
       "    .dataframe thead th {\n",
       "        text-align: right;\n",
       "    }\n",
       "</style>\n",
       "<table border=\"1\" class=\"dataframe\">\n",
       "  <thead>\n",
       "    <tr style=\"text-align: right;\">\n",
       "      <th></th>\n",
       "      <th>tripduration</th>\n",
       "      <th>start station id</th>\n",
       "      <th>start station latitude</th>\n",
       "      <th>start station longitude</th>\n",
       "      <th>end station id</th>\n",
       "      <th>end station latitude</th>\n",
       "      <th>end station longitude</th>\n",
       "      <th>bikeid</th>\n",
       "      <th>birth year</th>\n",
       "      <th>gender</th>\n",
       "    </tr>\n",
       "  </thead>\n",
       "  <tbody>\n",
       "    <tr>\n",
       "      <th>count</th>\n",
       "      <td>1670630.00</td>\n",
       "      <td>1670630.00</td>\n",
       "      <td>1670630.00</td>\n",
       "      <td>1670630.00</td>\n",
       "      <td>1670630.00</td>\n",
       "      <td>1670630.00</td>\n",
       "      <td>1670630.00</td>\n",
       "      <td>1670630.00</td>\n",
       "      <td>1670630.00</td>\n",
       "      <td>1670630.00</td>\n",
       "    </tr>\n",
       "    <tr>\n",
       "      <th>mean</th>\n",
       "      <td>903.25</td>\n",
       "      <td>1371.71</td>\n",
       "      <td>40.74</td>\n",
       "      <td>-73.98</td>\n",
       "      <td>1362.04</td>\n",
       "      <td>40.74</td>\n",
       "      <td>-73.98</td>\n",
       "      <td>24352.80</td>\n",
       "      <td>1979.53</td>\n",
       "      <td>1.26</td>\n",
       "    </tr>\n",
       "    <tr>\n",
       "      <th>std</th>\n",
       "      <td>7853.19</td>\n",
       "      <td>1353.52</td>\n",
       "      <td>0.04</td>\n",
       "      <td>0.06</td>\n",
       "      <td>1350.90</td>\n",
       "      <td>0.05</td>\n",
       "      <td>0.08</td>\n",
       "      <td>5423.32</td>\n",
       "      <td>11.71</td>\n",
       "      <td>0.45</td>\n",
       "    </tr>\n",
       "    <tr>\n",
       "      <th>min</th>\n",
       "      <td>61.00</td>\n",
       "      <td>72.00</td>\n",
       "      <td>0.00</td>\n",
       "      <td>-74.03</td>\n",
       "      <td>72.00</td>\n",
       "      <td>0.00</td>\n",
       "      <td>-74.06</td>\n",
       "      <td>14529.00</td>\n",
       "      <td>1885.00</td>\n",
       "      <td>0.00</td>\n",
       "    </tr>\n",
       "    <tr>\n",
       "      <th>25%</th>\n",
       "      <td>373.00</td>\n",
       "      <td>362.00</td>\n",
       "      <td>40.72</td>\n",
       "      <td>-74.00</td>\n",
       "      <td>361.00</td>\n",
       "      <td>40.72</td>\n",
       "      <td>-74.00</td>\n",
       "      <td>19013.00</td>\n",
       "      <td>1972.00</td>\n",
       "      <td>1.00</td>\n",
       "    </tr>\n",
       "    <tr>\n",
       "      <th>50%</th>\n",
       "      <td>613.00</td>\n",
       "      <td>486.00</td>\n",
       "      <td>40.74</td>\n",
       "      <td>-73.99</td>\n",
       "      <td>485.00</td>\n",
       "      <td>40.74</td>\n",
       "      <td>-73.99</td>\n",
       "      <td>26053.00</td>\n",
       "      <td>1982.00</td>\n",
       "      <td>1.00</td>\n",
       "    </tr>\n",
       "    <tr>\n",
       "      <th>75%</th>\n",
       "      <td>1032.00</td>\n",
       "      <td>3143.00</td>\n",
       "      <td>40.76</td>\n",
       "      <td>-73.98</td>\n",
       "      <td>3141.00</td>\n",
       "      <td>40.75</td>\n",
       "      <td>-73.98</td>\n",
       "      <td>29031.00</td>\n",
       "      <td>1989.00</td>\n",
       "      <td>2.00</td>\n",
       "    </tr>\n",
       "    <tr>\n",
       "      <th>max</th>\n",
       "      <td>2215580.00</td>\n",
       "      <td>3637.00</td>\n",
       "      <td>40.81</td>\n",
       "      <td>0.00</td>\n",
       "      <td>3637.00</td>\n",
       "      <td>40.81</td>\n",
       "      <td>0.00</td>\n",
       "      <td>31979.00</td>\n",
       "      <td>2001.00</td>\n",
       "      <td>2.00</td>\n",
       "    </tr>\n",
       "  </tbody>\n",
       "</table>\n",
       "</div>"
      ],
      "text/plain": [
       "       tripduration  start station id  start station latitude  \\\n",
       "count    1670630.00        1670630.00              1670630.00   \n",
       "mean         903.25           1371.71                   40.74   \n",
       "std         7853.19           1353.52                    0.04   \n",
       "min           61.00             72.00                    0.00   \n",
       "25%          373.00            362.00                   40.72   \n",
       "50%          613.00            486.00                   40.74   \n",
       "75%         1032.00           3143.00                   40.76   \n",
       "max      2215580.00           3637.00                   40.81   \n",
       "\n",
       "       start station longitude  end station id  end station latitude  \\\n",
       "count               1670630.00      1670630.00            1670630.00   \n",
       "mean                    -73.98         1362.04                 40.74   \n",
       "std                       0.06         1350.90                  0.05   \n",
       "min                     -74.03           72.00                  0.00   \n",
       "25%                     -74.00          361.00                 40.72   \n",
       "50%                     -73.99          485.00                 40.74   \n",
       "75%                     -73.98         3141.00                 40.75   \n",
       "max                       0.00         3637.00                 40.81   \n",
       "\n",
       "       end station longitude      bikeid  birth year      gender  \n",
       "count             1670630.00  1670630.00  1670630.00  1670630.00  \n",
       "mean                  -73.98    24352.80     1979.53        1.26  \n",
       "std                     0.08     5423.32       11.71        0.45  \n",
       "min                   -74.06    14529.00     1885.00        0.00  \n",
       "25%                   -74.00    19013.00     1972.00        1.00  \n",
       "50%                   -73.99    26053.00     1982.00        1.00  \n",
       "75%                   -73.98    29031.00     1989.00        2.00  \n",
       "max                     0.00    31979.00     2001.00        2.00  "
      ]
     },
     "execution_count": 171,
     "metadata": {},
     "output_type": "execute_result"
    }
   ],
   "source": [
    "#drop the column with nan values (return it without nan values)\n",
    "bike.dropna(inplace=True)\n",
    "round(bike.describe(),2)"
   ]
  },
  {
   "cell_type": "code",
   "execution_count": 172,
   "metadata": {},
   "outputs": [
    {
     "data": {
      "text/plain": [
       "tripduration               0\n",
       "starttime                  0\n",
       "stoptime                   0\n",
       "start station id           0\n",
       "start station name         0\n",
       "start station latitude     0\n",
       "start station longitude    0\n",
       "end station id             0\n",
       "end station name           0\n",
       "end station latitude       0\n",
       "end station longitude      0\n",
       "bikeid                     0\n",
       "usertype                   0\n",
       "birth year                 0\n",
       "gender                     0\n",
       "dtype: int64"
      ]
     },
     "execution_count": 172,
     "metadata": {},
     "output_type": "execute_result"
    }
   ],
   "source": [
    "#make sure the null value is removed\n",
    "bike.isna().sum()"
   ]
  },
  {
   "cell_type": "markdown",
   "metadata": {},
   "source": [
    "## Who rides citibikes? Show ridership distribution by gender, user type, and age\n",
    "Process the data and plot your answers"
   ]
  },
  {
   "cell_type": "code",
   "execution_count": 173,
   "metadata": {},
   "outputs": [
    {
     "data": {
      "text/html": [
       "<div>\n",
       "<style scoped>\n",
       "    .dataframe tbody tr th:only-of-type {\n",
       "        vertical-align: middle;\n",
       "    }\n",
       "\n",
       "    .dataframe tbody tr th {\n",
       "        vertical-align: top;\n",
       "    }\n",
       "\n",
       "    .dataframe thead th {\n",
       "        text-align: right;\n",
       "    }\n",
       "</style>\n",
       "<table border=\"1\" class=\"dataframe\">\n",
       "  <thead>\n",
       "    <tr style=\"text-align: right;\">\n",
       "      <th></th>\n",
       "      <th>tripduration</th>\n",
       "      <th>starttime</th>\n",
       "      <th>stoptime</th>\n",
       "      <th>start station id</th>\n",
       "      <th>start station name</th>\n",
       "      <th>start station latitude</th>\n",
       "      <th>start station longitude</th>\n",
       "      <th>end station id</th>\n",
       "      <th>end station name</th>\n",
       "      <th>end station latitude</th>\n",
       "      <th>end station longitude</th>\n",
       "      <th>bikeid</th>\n",
       "      <th>usertype</th>\n",
       "      <th>birth year</th>\n",
       "      <th>gender</th>\n",
       "      <th>age</th>\n",
       "    </tr>\n",
       "  </thead>\n",
       "  <tbody>\n",
       "    <tr>\n",
       "      <th>0</th>\n",
       "      <td>362</td>\n",
       "      <td>2017-09-01 00:00:17</td>\n",
       "      <td>2017-09-01 00:06:19</td>\n",
       "      <td>3331</td>\n",
       "      <td>Riverside Dr &amp; W 104 St</td>\n",
       "      <td>40.801343</td>\n",
       "      <td>-73.971146</td>\n",
       "      <td>3328</td>\n",
       "      <td>W 100 St &amp; Manhattan Ave</td>\n",
       "      <td>40.795000</td>\n",
       "      <td>-73.964500</td>\n",
       "      <td>14530</td>\n",
       "      <td>Subscriber</td>\n",
       "      <td>1993.0</td>\n",
       "      <td>Male</td>\n",
       "      <td>28.0</td>\n",
       "    </tr>\n",
       "    <tr>\n",
       "      <th>1</th>\n",
       "      <td>188</td>\n",
       "      <td>2017-09-01 00:00:21</td>\n",
       "      <td>2017-09-01 00:03:30</td>\n",
       "      <td>3101</td>\n",
       "      <td>N 12 St &amp; Bedford Ave</td>\n",
       "      <td>40.720798</td>\n",
       "      <td>-73.954847</td>\n",
       "      <td>3100</td>\n",
       "      <td>Nassau Ave &amp; Newell St</td>\n",
       "      <td>40.724813</td>\n",
       "      <td>-73.947526</td>\n",
       "      <td>15475</td>\n",
       "      <td>Subscriber</td>\n",
       "      <td>1988.0</td>\n",
       "      <td>Male</td>\n",
       "      <td>33.0</td>\n",
       "    </tr>\n",
       "    <tr>\n",
       "      <th>2</th>\n",
       "      <td>305</td>\n",
       "      <td>2017-09-01 00:00:25</td>\n",
       "      <td>2017-09-01 00:05:30</td>\n",
       "      <td>3140</td>\n",
       "      <td>1 Ave &amp; E 78 St</td>\n",
       "      <td>40.771404</td>\n",
       "      <td>-73.953517</td>\n",
       "      <td>3141</td>\n",
       "      <td>1 Ave &amp; E 68 St</td>\n",
       "      <td>40.765005</td>\n",
       "      <td>-73.958185</td>\n",
       "      <td>30346</td>\n",
       "      <td>Subscriber</td>\n",
       "      <td>1969.0</td>\n",
       "      <td>Male</td>\n",
       "      <td>52.0</td>\n",
       "    </tr>\n",
       "    <tr>\n",
       "      <th>3</th>\n",
       "      <td>223</td>\n",
       "      <td>2017-09-01 00:00:52</td>\n",
       "      <td>2017-09-01 00:04:36</td>\n",
       "      <td>236</td>\n",
       "      <td>St Marks Pl &amp; 2 Ave</td>\n",
       "      <td>40.728419</td>\n",
       "      <td>-73.987140</td>\n",
       "      <td>473</td>\n",
       "      <td>Rivington St &amp; Chrystie St</td>\n",
       "      <td>40.721101</td>\n",
       "      <td>-73.991925</td>\n",
       "      <td>28056</td>\n",
       "      <td>Subscriber</td>\n",
       "      <td>1993.0</td>\n",
       "      <td>Male</td>\n",
       "      <td>28.0</td>\n",
       "    </tr>\n",
       "    <tr>\n",
       "      <th>4</th>\n",
       "      <td>758</td>\n",
       "      <td>2017-09-01 00:01:01</td>\n",
       "      <td>2017-09-01 00:13:40</td>\n",
       "      <td>3427</td>\n",
       "      <td>Lafayette St &amp; Jersey St</td>\n",
       "      <td>40.724305</td>\n",
       "      <td>-73.996010</td>\n",
       "      <td>3431</td>\n",
       "      <td>E 35 St &amp; 3 Ave</td>\n",
       "      <td>40.746524</td>\n",
       "      <td>-73.977885</td>\n",
       "      <td>25413</td>\n",
       "      <td>Subscriber</td>\n",
       "      <td>1987.0</td>\n",
       "      <td>Male</td>\n",
       "      <td>34.0</td>\n",
       "    </tr>\n",
       "  </tbody>\n",
       "</table>\n",
       "</div>"
      ],
      "text/plain": [
       "   tripduration            starttime             stoptime  start station id  \\\n",
       "0           362  2017-09-01 00:00:17  2017-09-01 00:06:19              3331   \n",
       "1           188  2017-09-01 00:00:21  2017-09-01 00:03:30              3101   \n",
       "2           305  2017-09-01 00:00:25  2017-09-01 00:05:30              3140   \n",
       "3           223  2017-09-01 00:00:52  2017-09-01 00:04:36               236   \n",
       "4           758  2017-09-01 00:01:01  2017-09-01 00:13:40              3427   \n",
       "\n",
       "         start station name  start station latitude  start station longitude  \\\n",
       "0   Riverside Dr & W 104 St               40.801343               -73.971146   \n",
       "1     N 12 St & Bedford Ave               40.720798               -73.954847   \n",
       "2           1 Ave & E 78 St               40.771404               -73.953517   \n",
       "3       St Marks Pl & 2 Ave               40.728419               -73.987140   \n",
       "4  Lafayette St & Jersey St               40.724305               -73.996010   \n",
       "\n",
       "   end station id            end station name  end station latitude  \\\n",
       "0            3328    W 100 St & Manhattan Ave             40.795000   \n",
       "1            3100      Nassau Ave & Newell St             40.724813   \n",
       "2            3141             1 Ave & E 68 St             40.765005   \n",
       "3             473  Rivington St & Chrystie St             40.721101   \n",
       "4            3431             E 35 St & 3 Ave             40.746524   \n",
       "\n",
       "   end station longitude  bikeid    usertype  birth year gender   age  \n",
       "0             -73.964500   14530  Subscriber      1993.0   Male  28.0  \n",
       "1             -73.947526   15475  Subscriber      1988.0   Male  33.0  \n",
       "2             -73.958185   30346  Subscriber      1969.0   Male  52.0  \n",
       "3             -73.991925   28056  Subscriber      1993.0   Male  28.0  \n",
       "4             -73.977885   25413  Subscriber      1987.0   Male  34.0  "
      ]
     },
     "execution_count": 173,
     "metadata": {},
     "output_type": "execute_result"
    }
   ],
   "source": [
    "import datetime\n",
    "\n",
    "#add new column 'age', based on their birth year\n",
    "bike['age'] = datetime.datetime.now().year - bike['birth year']\n",
    "\n",
    "#replace gender\n",
    "gender = bike['gender'].replace([0,1,2],['Unknown','Male','Female'],inplace=True)\n",
    "bike.head()"
   ]
  },
  {
   "cell_type": "code",
   "execution_count": 174,
   "metadata": {},
   "outputs": [
    {
     "data": {
      "text/html": [
       "<div>\n",
       "<style scoped>\n",
       "    .dataframe tbody tr th:only-of-type {\n",
       "        vertical-align: middle;\n",
       "    }\n",
       "\n",
       "    .dataframe tbody tr th {\n",
       "        vertical-align: top;\n",
       "    }\n",
       "\n",
       "    .dataframe thead th {\n",
       "        text-align: right;\n",
       "    }\n",
       "</style>\n",
       "<table border=\"1\" class=\"dataframe\">\n",
       "  <thead>\n",
       "    <tr style=\"text-align: right;\">\n",
       "      <th></th>\n",
       "      <th>gender</th>\n",
       "      <th>count</th>\n",
       "    </tr>\n",
       "  </thead>\n",
       "  <tbody>\n",
       "    <tr>\n",
       "      <th>0</th>\n",
       "      <td>Male</td>\n",
       "      <td>1218512</td>\n",
       "    </tr>\n",
       "    <tr>\n",
       "      <th>1</th>\n",
       "      <td>Female</td>\n",
       "      <td>444132</td>\n",
       "    </tr>\n",
       "    <tr>\n",
       "      <th>2</th>\n",
       "      <td>Unknown</td>\n",
       "      <td>7986</td>\n",
       "    </tr>\n",
       "  </tbody>\n",
       "</table>\n",
       "</div>"
      ],
      "text/plain": [
       "    gender    count\n",
       "0     Male  1218512\n",
       "1   Female   444132\n",
       "2  Unknown     7986"
      ]
     },
     "execution_count": 174,
     "metadata": {},
     "output_type": "execute_result"
    }
   ],
   "source": [
    "import seaborn as sns\n",
    "\n",
    "#count the gender based on its category\n",
    "gender_tb = bike['gender'].value_counts().to_frame().reset_index()\n",
    "gender_tb.columns = ['gender', 'count']\n",
    "\n",
    "gender_tb"
   ]
  },
  {
   "cell_type": "code",
   "execution_count": 175,
   "metadata": {},
   "outputs": [
    {
     "data": {
      "image/png": "[encoded data removed]",
      "text/plain": [
       "<Figure size 432x288 with 1 Axes>"
      ]
     },
     "metadata": {
      "needs_background": "light"
     },
     "output_type": "display_data"
    }
   ],
   "source": [
    "#plotting based on gender\n",
    "sns.barplot(x = 'gender', y = 'count', data = gender_tb)\n",
    "plt.show()"
   ]
  },
  {
   "cell_type": "code",
   "execution_count": 176,
   "metadata": {},
   "outputs": [
    {
     "data": {
      "text/html": [
       "<div>\n",
       "<style scoped>\n",
       "    .dataframe tbody tr th:only-of-type {\n",
       "        vertical-align: middle;\n",
       "    }\n",
       "\n",
       "    .dataframe tbody tr th {\n",
       "        vertical-align: top;\n",
       "    }\n",
       "\n",
       "    .dataframe thead th {\n",
       "        text-align: right;\n",
       "    }\n",
       "</style>\n",
       "<table border=\"1\" class=\"dataframe\">\n",
       "  <thead>\n",
       "    <tr style=\"text-align: right;\">\n",
       "      <th></th>\n",
       "      <th>usertype</th>\n",
       "      <th>count</th>\n",
       "    </tr>\n",
       "  </thead>\n",
       "  <tbody>\n",
       "    <tr>\n",
       "      <th>0</th>\n",
       "      <td>Subscriber</td>\n",
       "      <td>1623301</td>\n",
       "    </tr>\n",
       "    <tr>\n",
       "      <th>1</th>\n",
       "      <td>Customer</td>\n",
       "      <td>47329</td>\n",
       "    </tr>\n",
       "  </tbody>\n",
       "</table>\n",
       "</div>"
      ],
      "text/plain": [
       "     usertype    count\n",
       "0  Subscriber  1623301\n",
       "1    Customer    47329"
      ]
     },
     "execution_count": 176,
     "metadata": {},
     "output_type": "execute_result"
    }
   ],
   "source": [
    "usertype_tb = bike['usertype'].value_counts().to_frame().reset_index()\n",
    "usertype_tb.columns = ['usertype', 'count']\n",
    "\n",
    "usertype_tb"
   ]
  },
  {
   "cell_type": "code",
   "execution_count": 177,
   "metadata": {},
   "outputs": [
    {
     "data": {
      "image/png": "[encoded data removed]",
      "text/plain": [
       "<Figure size 432x288 with 1 Axes>"
      ]
     },
     "metadata": {
      "needs_background": "light"
     },
     "output_type": "display_data"
    }
   ],
   "source": [
    "#plotting based on user type\n",
    "sns.barplot(x = 'usertype', y = 'count', data = usertype_tb)\n",
    "plt.show()"
   ]
  },
  {
   "cell_type": "code",
   "execution_count": 178,
   "metadata": {},
   "outputs": [
    {
     "data": {
      "text/html": [
       "<div>\n",
       "<style scoped>\n",
       "    .dataframe tbody tr th:only-of-type {\n",
       "        vertical-align: middle;\n",
       "    }\n",
       "\n",
       "    .dataframe tbody tr th {\n",
       "        vertical-align: top;\n",
       "    }\n",
       "\n",
       "    .dataframe thead th {\n",
       "        text-align: right;\n",
       "    }\n",
       "</style>\n",
       "<table border=\"1\" class=\"dataframe\">\n",
       "  <thead>\n",
       "    <tr style=\"text-align: right;\">\n",
       "      <th></th>\n",
       "      <th>index</th>\n",
       "      <th>age</th>\n",
       "    </tr>\n",
       "  </thead>\n",
       "  <tbody>\n",
       "    <tr>\n",
       "      <th>0</th>\n",
       "      <td>31.0</td>\n",
       "      <td>72463</td>\n",
       "    </tr>\n",
       "    <tr>\n",
       "      <th>1</th>\n",
       "      <td>33.0</td>\n",
       "      <td>71615</td>\n",
       "    </tr>\n",
       "    <tr>\n",
       "      <th>2</th>\n",
       "      <td>32.0</td>\n",
       "      <td>71342</td>\n",
       "    </tr>\n",
       "    <tr>\n",
       "      <th>3</th>\n",
       "      <td>34.0</td>\n",
       "      <td>69461</td>\n",
       "    </tr>\n",
       "    <tr>\n",
       "      <th>4</th>\n",
       "      <td>36.0</td>\n",
       "      <td>67613</td>\n",
       "    </tr>\n",
       "  </tbody>\n",
       "</table>\n",
       "</div>"
      ],
      "text/plain": [
       "   index    age\n",
       "0   31.0  72463\n",
       "1   33.0  71615\n",
       "2   32.0  71342\n",
       "3   34.0  69461\n",
       "4   36.0  67613"
      ]
     },
     "execution_count": 178,
     "metadata": {},
     "output_type": "execute_result"
    }
   ],
   "source": [
    "bike['age'].min(), bike['age'].max()\n",
    "\n",
    "bike['age'].value_counts().to_frame().reset_index().head()"
   ]
  },
  {
   "cell_type": "code",
   "execution_count": 179,
   "metadata": {},
   "outputs": [
    {
     "data": {
      "text/plain": [
       "<AxesSubplot:xlabel='age', ylabel='Count'>"
      ]
     },
     "execution_count": 179,
     "metadata": {},
     "output_type": "execute_result"
    },
    {
     "data": {
      "image/png": "[encoded data removed]",
      "text/plain": [
       "<Figure size 720x504 with 1 Axes>"
      ]
     },
     "metadata": {
      "needs_background": "light"
     },
     "output_type": "display_data"
    }
   ],
   "source": [
    "#plot the age distribution\n",
    "fig = plt.figure(figsize =(10, 7))\n",
    "sns.histplot(data = age)"
   ]
  },
  {
   "cell_type": "markdown",
   "metadata": {},
   "source": [
    "## What is the average number of trips per day?"
   ]
  },
  {
   "cell_type": "code",
   "execution_count": 253,
   "metadata": {},
   "outputs": [
    {
     "name": "stdout",
     "output_type": "stream",
     "text": [
      "The average number of trips in each day is 55688\n"
     ]
    }
   ],
   "source": [
    "#change data type of start time to date time\n",
    "bike['starttime'] = pd.to_datetime(bike['starttime'])\n",
    "\n",
    "#group by berdasarkan date nya lalu dicount dan dapatkan nilai mean nya\n",
    "avg_trip_day = bike.groupby(bike['starttime'].dt.date)['starttime'].count().mean()\n",
    "\n",
    "print('The average number of trips in each day is', round(avg_trip_day))"
   ]
  },
  {
   "cell_type": "markdown",
   "metadata": {},
   "source": [
    "## What is the average trip duration?"
   ]
  },
  {
   "cell_type": "code",
   "execution_count": 181,
   "metadata": {},
   "outputs": [
    {
     "name": "stdout",
     "output_type": "stream",
     "text": [
      "The average of trip duration is 15 minutes\n"
     ]
    }
   ],
   "source": [
    "#get the average number of trip duration\n",
    "avg_trip_dur = round(bike['tripduration'].mean()/60)\n",
    "\n",
    "print('The average of trip duration is', avg_trip_dur, 'minutes')"
   ]
  },
  {
   "cell_type": "markdown",
   "metadata": {},
   "source": [
    "## What days of the week are most rides taken on?\n",
    "Process the data and plot your answer"
   ]
  },
  {
   "cell_type": "code",
   "execution_count": 248,
   "metadata": {},
   "outputs": [
    {
     "name": "stdout",
     "output_type": "stream",
     "text": [
      "Friday       304273\n",
      "Thursday     260024\n",
      "Tuesday      250302\n",
      "Wednesday    237076\n",
      "Monday       228950\n",
      "Saturday     220983\n",
      "Sunday       169022\n",
      "Name: day_name, dtype: int64\n"
     ]
    },
    {
     "data": {
      "text/plain": [
       "<AxesSubplot:title={'center':'Rides Distribution on days of the week'}>"
      ]
     },
     "execution_count": 248,
     "metadata": {},
     "output_type": "execute_result"
    },
    {
     "data": {
      "image/png": "[encoded data removed]",
      "text/plain": [
       "<Figure size 432x288 with 1 Axes>"
      ]
     },
     "metadata": {
      "needs_background": "light"
     },
     "output_type": "display_data"
    }
   ],
   "source": [
    "bike['starttime'] = pd.to_datetime(bike['starttime'])\n",
    "\n",
    "#create new column to get the day name\n",
    "bike['day_name'] = bike['starttime'].dt.day_name()\n",
    "\n",
    "#count based on day name\n",
    "data_per_day = bike['day_name'].value_counts()\n",
    "\n",
    "print(data_per_day)\n",
    "\n",
    "data_per_day.plot(kind='bar', title='Rides Distribution on days of the week')"
   ]
  },
  {
   "cell_type": "code",
   "execution_count": 183,
   "metadata": {},
   "outputs": [
    {
     "name": "stdout",
     "output_type": "stream",
     "text": [
      "The most rides takes on Friday. Counted as many as 304273 trips\n"
     ]
    }
   ],
   "source": [
    "print('The most rides takes on Friday. Counted as many as', data_per_day.max(), 'trips')"
   ]
  },
  {
   "cell_type": "markdown",
   "metadata": {},
   "source": [
    "## What hour of the day are most rides taken on?\n",
    "Process the data and plot your answer"
   ]
  },
  {
   "cell_type": "code",
   "execution_count": 184,
   "metadata": {},
   "outputs": [
    {
     "name": "stdout",
     "output_type": "stream",
     "text": [
      "0      15018\n",
      "1       8228\n",
      "2       4598\n",
      "3       2732\n",
      "4       2895\n",
      "5      10501\n",
      "6      38979\n",
      "7      85487\n",
      "8     141814\n",
      "9     105236\n",
      "10     73187\n",
      "11     74820\n",
      "12     87486\n",
      "13     89960\n",
      "14     91778\n",
      "15     95299\n",
      "16    114085\n",
      "17    166805\n",
      "18    167284\n",
      "19    110179\n",
      "20     71366\n",
      "21     50735\n",
      "22     37082\n",
      "23     25076\n",
      "Name: hour, dtype: int64\n"
     ]
    },
    {
     "data": {
      "text/plain": [
       "<AxesSubplot:title={'center':'Rides Distribution per Hour'}>"
      ]
     },
     "execution_count": 184,
     "metadata": {},
     "output_type": "execute_result"
    },
    {
     "data": {
      "image/png": "[encoded data removed]",
      "text/plain": [
       "<Figure size 720x504 with 1 Axes>"
      ]
     },
     "metadata": {
      "needs_background": "light"
     },
     "output_type": "display_data"
    }
   ],
   "source": [
    "bike['starttime'] = pd.to_datetime(bike['starttime'])\n",
    "\n",
    "#create new column to get the hour\n",
    "bike['hour'] = bike['starttime'].dt.hour\n",
    "\n",
    "#count based on each of the hour\n",
    "hour_per_day = bike['hour'].value_counts().sort_index()\n",
    "\n",
    "print(hour_per_day)\n",
    "\n",
    "hour_per_day.plot(kind='bar', title='Rides Distribution per Hour', figsize=(10,7))"
   ]
  },
  {
   "cell_type": "markdown",
   "metadata": {},
   "source": [
    "The most rides takes between 5 pm to 6 pm and 8 am"
   ]
  },
  {
   "cell_type": "markdown",
   "metadata": {},
   "source": [
    "## Is there correlation between age and trip duration?"
   ]
  },
  {
   "cell_type": "code",
   "execution_count": 185,
   "metadata": {},
   "outputs": [
    {
     "name": "stdout",
     "output_type": "stream",
     "text": [
      "covariance = \n",
      " [[ 1.37200613e+02 -3.83360203e+02]\n",
      " [-3.83360203e+02  6.16726660e+07]]\n",
      "correlation =  -0.004\n"
     ]
    }
   ],
   "source": [
    "from numpy import cov\n",
    "from scipy.stats import pearsonr\n",
    "\n",
    "covariance = cov(bike['age'], bike['tripduration'])\n",
    "corr, _ = pearsonr(bike['age'], bike['tripduration'])\n",
    "\n",
    "print('covariance = \\n',covariance)\n",
    "print('correlation = ',round(corr,3))"
   ]
  },
  {
   "cell_type": "markdown",
   "metadata": {},
   "source": [
    "The covariance between age and trip duration is -3.83360203e+02, it means a negative realtionship.\n",
    "\n",
    "The correlation between age and trip duration is -0.004 it indicates that there is no relationship between the two variables"
   ]
  },
  {
   "cell_type": "markdown",
   "metadata": {},
   "source": [
    "## What are the top 10 pair of stations that our riders use as a start & stopping point?"
   ]
  },
  {
   "cell_type": "code",
   "execution_count": 231,
   "metadata": {},
   "outputs": [
    {
     "data": {
      "text/html": [
       "<div>\n",
       "<style scoped>\n",
       "    .dataframe tbody tr th:only-of-type {\n",
       "        vertical-align: middle;\n",
       "    }\n",
       "\n",
       "    .dataframe tbody tr th {\n",
       "        vertical-align: top;\n",
       "    }\n",
       "\n",
       "    .dataframe thead th {\n",
       "        text-align: right;\n",
       "    }\n",
       "</style>\n",
       "<table border=\"1\" class=\"dataframe\">\n",
       "  <thead>\n",
       "    <tr style=\"text-align: right;\">\n",
       "      <th></th>\n",
       "      <th>start station name</th>\n",
       "      <th>end station name</th>\n",
       "    </tr>\n",
       "  </thead>\n",
       "  <tbody>\n",
       "    <tr>\n",
       "      <th>0</th>\n",
       "      <td>Riverside Dr &amp; W 104 St</td>\n",
       "      <td>W 100 St &amp; Manhattan Ave</td>\n",
       "    </tr>\n",
       "    <tr>\n",
       "      <th>1</th>\n",
       "      <td>N 12 St &amp; Bedford Ave</td>\n",
       "      <td>Nassau Ave &amp; Newell St</td>\n",
       "    </tr>\n",
       "    <tr>\n",
       "      <th>2</th>\n",
       "      <td>1 Ave &amp; E 78 St</td>\n",
       "      <td>1 Ave &amp; E 68 St</td>\n",
       "    </tr>\n",
       "    <tr>\n",
       "      <th>3</th>\n",
       "      <td>St Marks Pl &amp; 2 Ave</td>\n",
       "      <td>Rivington St &amp; Chrystie St</td>\n",
       "    </tr>\n",
       "    <tr>\n",
       "      <th>4</th>\n",
       "      <td>Lafayette St &amp; Jersey St</td>\n",
       "      <td>E 35 St &amp; 3 Ave</td>\n",
       "    </tr>\n",
       "    <tr>\n",
       "      <th>...</th>\n",
       "      <td>...</td>\n",
       "      <td>...</td>\n",
       "    </tr>\n",
       "    <tr>\n",
       "      <th>1878092</th>\n",
       "      <td>Central Park West &amp; W 68 St</td>\n",
       "      <td>9 Ave &amp; W 45 St</td>\n",
       "    </tr>\n",
       "    <tr>\n",
       "      <th>1878093</th>\n",
       "      <td>West End Ave &amp; W 107 St</td>\n",
       "      <td>Morningside Ave &amp; W 123 St</td>\n",
       "    </tr>\n",
       "    <tr>\n",
       "      <th>1878094</th>\n",
       "      <td>Central Park West &amp; W 68 St</td>\n",
       "      <td>9 Ave &amp; W 45 St</td>\n",
       "    </tr>\n",
       "    <tr>\n",
       "      <th>1878096</th>\n",
       "      <td>Amsterdam Ave &amp; W 73 St</td>\n",
       "      <td>E 97 St &amp; Madison Ave</td>\n",
       "    </tr>\n",
       "    <tr>\n",
       "      <th>1878097</th>\n",
       "      <td>E 44 St &amp; 2 Ave</td>\n",
       "      <td>E 11 St &amp; 2 Ave</td>\n",
       "    </tr>\n",
       "  </tbody>\n",
       "</table>\n",
       "<p>1670630 rows × 2 columns</p>\n",
       "</div>"
      ],
      "text/plain": [
       "                  start station name            end station name\n",
       "0            Riverside Dr & W 104 St    W 100 St & Manhattan Ave\n",
       "1              N 12 St & Bedford Ave      Nassau Ave & Newell St\n",
       "2                    1 Ave & E 78 St             1 Ave & E 68 St\n",
       "3                St Marks Pl & 2 Ave  Rivington St & Chrystie St\n",
       "4           Lafayette St & Jersey St             E 35 St & 3 Ave\n",
       "...                              ...                         ...\n",
       "1878092  Central Park West & W 68 St             9 Ave & W 45 St\n",
       "1878093      West End Ave & W 107 St  Morningside Ave & W 123 St\n",
       "1878094  Central Park West & W 68 St             9 Ave & W 45 St\n",
       "1878096      Amsterdam Ave & W 73 St       E 97 St & Madison Ave\n",
       "1878097              E 44 St & 2 Ave             E 11 St & 2 Ave\n",
       "\n",
       "[1670630 rows x 2 columns]"
      ]
     },
     "execution_count": 231,
     "metadata": {},
     "output_type": "execute_result"
    }
   ],
   "source": [
    "#membuat new df dengan column start station & end station\n",
    "pairing_station = pd.DataFrame(bike, columns= ['start station name', 'end station name'])\n",
    "pairing_station"
   ]
  },
  {
   "cell_type": "code",
   "execution_count": 232,
   "metadata": {},
   "outputs": [
    {
     "data": {
      "text/html": [
       "<div>\n",
       "<style scoped>\n",
       "    .dataframe tbody tr th:only-of-type {\n",
       "        vertical-align: middle;\n",
       "    }\n",
       "\n",
       "    .dataframe tbody tr th {\n",
       "        vertical-align: top;\n",
       "    }\n",
       "\n",
       "    .dataframe thead th {\n",
       "        text-align: right;\n",
       "    }\n",
       "</style>\n",
       "<table border=\"1\" class=\"dataframe\">\n",
       "  <thead>\n",
       "    <tr style=\"text-align: right;\">\n",
       "      <th></th>\n",
       "      <th>start station name</th>\n",
       "      <th>end station name</th>\n",
       "      <th>0</th>\n",
       "    </tr>\n",
       "  </thead>\n",
       "  <tbody>\n",
       "    <tr>\n",
       "      <th>72782</th>\n",
       "      <td>E 7 St &amp; Avenue A</td>\n",
       "      <td>Cooper Square &amp; E 7 St</td>\n",
       "      <td>752</td>\n",
       "    </tr>\n",
       "    <tr>\n",
       "      <th>114330</th>\n",
       "      <td>Pershing Square North</td>\n",
       "      <td>Broadway &amp; W 32 St</td>\n",
       "      <td>479</td>\n",
       "    </tr>\n",
       "    <tr>\n",
       "      <th>136865</th>\n",
       "      <td>W 21 St &amp; 6 Ave</td>\n",
       "      <td>9 Ave &amp; W 22 St</td>\n",
       "      <td>478</td>\n",
       "    </tr>\n",
       "    <tr>\n",
       "      <th>114419</th>\n",
       "      <td>Pershing Square North</td>\n",
       "      <td>E 24 St &amp; Park Ave S</td>\n",
       "      <td>477</td>\n",
       "    </tr>\n",
       "    <tr>\n",
       "      <th>4706</th>\n",
       "      <td>12 Ave &amp; W 40 St</td>\n",
       "      <td>West St &amp; Chambers St</td>\n",
       "      <td>459</td>\n",
       "    </tr>\n",
       "    <tr>\n",
       "      <th>45817</th>\n",
       "      <td>Cooper Square &amp; E 7 St</td>\n",
       "      <td>E 7 St &amp; Avenue A</td>\n",
       "      <td>459</td>\n",
       "    </tr>\n",
       "    <tr>\n",
       "      <th>118498</th>\n",
       "      <td>Richardson St &amp; N Henry St</td>\n",
       "      <td>Graham Ave &amp; Conselyea St</td>\n",
       "      <td>456</td>\n",
       "    </tr>\n",
       "    <tr>\n",
       "      <th>121767</th>\n",
       "      <td>S 4 St &amp; Wythe Ave</td>\n",
       "      <td>N 6 St &amp; Bedford Ave</td>\n",
       "      <td>452</td>\n",
       "    </tr>\n",
       "    <tr>\n",
       "      <th>105442</th>\n",
       "      <td>McGuinness Blvd &amp; Eagle St</td>\n",
       "      <td>Vernon Blvd &amp; 50 Ave</td>\n",
       "      <td>449</td>\n",
       "    </tr>\n",
       "    <tr>\n",
       "      <th>130244</th>\n",
       "      <td>Vernon Blvd &amp; 50 Ave</td>\n",
       "      <td>McGuinness Blvd &amp; Eagle St</td>\n",
       "      <td>415</td>\n",
       "    </tr>\n",
       "  </tbody>\n",
       "</table>\n",
       "</div>"
      ],
      "text/plain": [
       "                start station name            end station name    0\n",
       "72782            E 7 St & Avenue A      Cooper Square & E 7 St  752\n",
       "114330       Pershing Square North          Broadway & W 32 St  479\n",
       "136865             W 21 St & 6 Ave             9 Ave & W 22 St  478\n",
       "114419       Pershing Square North        E 24 St & Park Ave S  477\n",
       "4706              12 Ave & W 40 St       West St & Chambers St  459\n",
       "45817       Cooper Square & E 7 St           E 7 St & Avenue A  459\n",
       "118498  Richardson St & N Henry St   Graham Ave & Conselyea St  456\n",
       "121767          S 4 St & Wythe Ave        N 6 St & Bedford Ave  452\n",
       "105442  McGuinness Blvd & Eagle St        Vernon Blvd & 50 Ave  449\n",
       "130244        Vernon Blvd & 50 Ave  McGuinness Blvd & Eagle St  415"
      ]
     },
     "execution_count": 232,
     "metadata": {},
     "output_type": "execute_result"
    }
   ],
   "source": [
    "#melakukan group by dan menghitung count untuk setiap start station & end station\n",
    "top10_tb = pairing_station.groupby(['start station name','end station name']).size().reset_index()\n",
    "\n",
    "top10_tb = top10_tb.sort_values(by=0, ascending=False)\n",
    "top10_tb.head(10)"
   ]
  },
  {
   "cell_type": "markdown",
   "metadata": {},
   "source": [
    "0 disini merupakan count nya."
   ]
  },
  {
   "cell_type": "markdown",
   "metadata": {},
   "source": [
    "## Come up with your own question on the Citibike data usage and formulate a hypothesis"
   ]
  },
  {
   "cell_type": "markdown",
   "metadata": {},
   "source": [
    "### Example:\n",
    "### \"Women are less likely than men to choose biking for commuting.\"\n",
    ">\n",
    ">Null Hypothesis: \n",
    "\n",
    ">The proportion of men biking on weekends is the same or higher than the proportion of women biking on weekends\n",
    "\n"
   ]
  },
  {
   "cell_type": "markdown",
   "metadata": {},
   "source": [
    "### \"Subscriber are likely to ride in weekdays for commuting\"\n",
    "\n",
    ">The proportion of subscriber is more than the proportion of customer. so they use bike for a daily basis"
   ]
  },
  {
   "cell_type": "markdown",
   "metadata": {},
   "source": [
    "## Work with your dataset and show your findings to help answer your question"
   ]
  },
  {
   "cell_type": "code",
   "execution_count": 245,
   "metadata": {},
   "outputs": [
    {
     "data": {
      "text/plain": [
       "{'Sunday': 0,\n",
       " 'Monday': 1,\n",
       " 'Tuesday': 2,\n",
       " 'Wednesday': 3,\n",
       " 'Thursday': 4,\n",
       " 'Friday': 5,\n",
       " 'Saturday': 6}"
      ]
     },
     "execution_count": 245,
     "metadata": {},
     "output_type": "execute_result"
    }
   ],
   "source": [
    "sorter = ['Sunday', 'Monday', 'Tuesday', 'Wednesday', 'Thursday', 'Friday', 'Saturday']\n",
    "sorterIndex = dict(zip(sorter,range(len(sorter))))\n",
    "sorterIndex"
   ]
  },
  {
   "cell_type": "code",
   "execution_count": 246,
   "metadata": {},
   "outputs": [
    {
     "data": {
      "text/html": [
       "<div>\n",
       "<style scoped>\n",
       "    .dataframe tbody tr th:only-of-type {\n",
       "        vertical-align: middle;\n",
       "    }\n",
       "\n",
       "    .dataframe tbody tr th {\n",
       "        vertical-align: top;\n",
       "    }\n",
       "\n",
       "    .dataframe thead th {\n",
       "        text-align: right;\n",
       "    }\n",
       "</style>\n",
       "<table border=\"1\" class=\"dataframe\">\n",
       "  <thead>\n",
       "    <tr style=\"text-align: right;\">\n",
       "      <th></th>\n",
       "      <th>tripduration</th>\n",
       "      <th>starttime</th>\n",
       "      <th>stoptime</th>\n",
       "      <th>start station id</th>\n",
       "      <th>start station name</th>\n",
       "      <th>start station latitude</th>\n",
       "      <th>start station longitude</th>\n",
       "      <th>end station id</th>\n",
       "      <th>end station name</th>\n",
       "      <th>end station latitude</th>\n",
       "      <th>end station longitude</th>\n",
       "      <th>bikeid</th>\n",
       "      <th>usertype</th>\n",
       "      <th>birth year</th>\n",
       "      <th>gender</th>\n",
       "      <th>age</th>\n",
       "      <th>day_name</th>\n",
       "      <th>hour</th>\n",
       "      <th>Day_id</th>\n",
       "    </tr>\n",
       "  </thead>\n",
       "  <tbody>\n",
       "    <tr>\n",
       "      <th>0</th>\n",
       "      <td>362</td>\n",
       "      <td>2017-09-01 00:00:17</td>\n",
       "      <td>2017-09-01 00:06:19</td>\n",
       "      <td>3331</td>\n",
       "      <td>Riverside Dr &amp; W 104 St</td>\n",
       "      <td>40.801343</td>\n",
       "      <td>-73.971146</td>\n",
       "      <td>3328</td>\n",
       "      <td>W 100 St &amp; Manhattan Ave</td>\n",
       "      <td>40.795000</td>\n",
       "      <td>-73.964500</td>\n",
       "      <td>14530</td>\n",
       "      <td>Subscriber</td>\n",
       "      <td>1993.0</td>\n",
       "      <td>Male</td>\n",
       "      <td>28.0</td>\n",
       "      <td>Friday</td>\n",
       "      <td>0</td>\n",
       "      <td>NaN</td>\n",
       "    </tr>\n",
       "    <tr>\n",
       "      <th>1</th>\n",
       "      <td>188</td>\n",
       "      <td>2017-09-01 00:00:21</td>\n",
       "      <td>2017-09-01 00:03:30</td>\n",
       "      <td>3101</td>\n",
       "      <td>N 12 St &amp; Bedford Ave</td>\n",
       "      <td>40.720798</td>\n",
       "      <td>-73.954847</td>\n",
       "      <td>3100</td>\n",
       "      <td>Nassau Ave &amp; Newell St</td>\n",
       "      <td>40.724813</td>\n",
       "      <td>-73.947526</td>\n",
       "      <td>15475</td>\n",
       "      <td>Subscriber</td>\n",
       "      <td>1988.0</td>\n",
       "      <td>Male</td>\n",
       "      <td>33.0</td>\n",
       "      <td>Friday</td>\n",
       "      <td>0</td>\n",
       "      <td>NaN</td>\n",
       "    </tr>\n",
       "    <tr>\n",
       "      <th>2</th>\n",
       "      <td>305</td>\n",
       "      <td>2017-09-01 00:00:25</td>\n",
       "      <td>2017-09-01 00:05:30</td>\n",
       "      <td>3140</td>\n",
       "      <td>1 Ave &amp; E 78 St</td>\n",
       "      <td>40.771404</td>\n",
       "      <td>-73.953517</td>\n",
       "      <td>3141</td>\n",
       "      <td>1 Ave &amp; E 68 St</td>\n",
       "      <td>40.765005</td>\n",
       "      <td>-73.958185</td>\n",
       "      <td>30346</td>\n",
       "      <td>Subscriber</td>\n",
       "      <td>1969.0</td>\n",
       "      <td>Male</td>\n",
       "      <td>52.0</td>\n",
       "      <td>Friday</td>\n",
       "      <td>0</td>\n",
       "      <td>NaN</td>\n",
       "    </tr>\n",
       "    <tr>\n",
       "      <th>3</th>\n",
       "      <td>223</td>\n",
       "      <td>2017-09-01 00:00:52</td>\n",
       "      <td>2017-09-01 00:04:36</td>\n",
       "      <td>236</td>\n",
       "      <td>St Marks Pl &amp; 2 Ave</td>\n",
       "      <td>40.728419</td>\n",
       "      <td>-73.987140</td>\n",
       "      <td>473</td>\n",
       "      <td>Rivington St &amp; Chrystie St</td>\n",
       "      <td>40.721101</td>\n",
       "      <td>-73.991925</td>\n",
       "      <td>28056</td>\n",
       "      <td>Subscriber</td>\n",
       "      <td>1993.0</td>\n",
       "      <td>Male</td>\n",
       "      <td>28.0</td>\n",
       "      <td>Friday</td>\n",
       "      <td>0</td>\n",
       "      <td>NaN</td>\n",
       "    </tr>\n",
       "    <tr>\n",
       "      <th>4</th>\n",
       "      <td>758</td>\n",
       "      <td>2017-09-01 00:01:01</td>\n",
       "      <td>2017-09-01 00:13:40</td>\n",
       "      <td>3427</td>\n",
       "      <td>Lafayette St &amp; Jersey St</td>\n",
       "      <td>40.724305</td>\n",
       "      <td>-73.996010</td>\n",
       "      <td>3431</td>\n",
       "      <td>E 35 St &amp; 3 Ave</td>\n",
       "      <td>40.746524</td>\n",
       "      <td>-73.977885</td>\n",
       "      <td>25413</td>\n",
       "      <td>Subscriber</td>\n",
       "      <td>1987.0</td>\n",
       "      <td>Male</td>\n",
       "      <td>34.0</td>\n",
       "      <td>Friday</td>\n",
       "      <td>0</td>\n",
       "      <td>NaN</td>\n",
       "    </tr>\n",
       "  </tbody>\n",
       "</table>\n",
       "</div>"
      ],
      "text/plain": [
       "   tripduration           starttime             stoptime  start station id  \\\n",
       "0           362 2017-09-01 00:00:17  2017-09-01 00:06:19              3331   \n",
       "1           188 2017-09-01 00:00:21  2017-09-01 00:03:30              3101   \n",
       "2           305 2017-09-01 00:00:25  2017-09-01 00:05:30              3140   \n",
       "3           223 2017-09-01 00:00:52  2017-09-01 00:04:36               236   \n",
       "4           758 2017-09-01 00:01:01  2017-09-01 00:13:40              3427   \n",
       "\n",
       "         start station name  start station latitude  start station longitude  \\\n",
       "0   Riverside Dr & W 104 St               40.801343               -73.971146   \n",
       "1     N 12 St & Bedford Ave               40.720798               -73.954847   \n",
       "2           1 Ave & E 78 St               40.771404               -73.953517   \n",
       "3       St Marks Pl & 2 Ave               40.728419               -73.987140   \n",
       "4  Lafayette St & Jersey St               40.724305               -73.996010   \n",
       "\n",
       "   end station id            end station name  end station latitude  \\\n",
       "0            3328    W 100 St & Manhattan Ave             40.795000   \n",
       "1            3100      Nassau Ave & Newell St             40.724813   \n",
       "2            3141             1 Ave & E 68 St             40.765005   \n",
       "3             473  Rivington St & Chrystie St             40.721101   \n",
       "4            3431             E 35 St & 3 Ave             40.746524   \n",
       "\n",
       "   end station longitude  bikeid    usertype  birth year gender   age  \\\n",
       "0             -73.964500   14530  Subscriber      1993.0   Male  28.0   \n",
       "1             -73.947526   15475  Subscriber      1988.0   Male  33.0   \n",
       "2             -73.958185   30346  Subscriber      1969.0   Male  52.0   \n",
       "3             -73.991925   28056  Subscriber      1993.0   Male  28.0   \n",
       "4             -73.977885   25413  Subscriber      1987.0   Male  34.0   \n",
       "\n",
       "  day_name  hour  Day_id  \n",
       "0   Friday     0     NaN  \n",
       "1   Friday     0     NaN  \n",
       "2   Friday     0     NaN  \n",
       "3   Friday     0     NaN  \n",
       "4   Friday     0     NaN  "
      ]
     },
     "execution_count": 246,
     "metadata": {},
     "output_type": "execute_result"
    }
   ],
   "source": [
    "bike['Day_id'] = bike.index\n",
    "bike['Day_id'] = bike['Day_id'].map(sorterIndex)\n",
    "bike.head()"
   ]
  },
  {
   "cell_type": "code",
   "execution_count": 256,
   "metadata": {},
   "outputs": [
    {
     "data": {
      "text/plain": [
       "<AxesSubplot:>"
      ]
     },
     "execution_count": 256,
     "metadata": {},
     "output_type": "execute_result"
    },
    {
     "data": {
      "image/png": "[encoded data removed]",
      "text/plain": [
       "<Figure size 432x288 with 1 Axes>"
      ]
     },
     "metadata": {
      "needs_background": "light"
     },
     "output_type": "display_data"
    },
    {
     "data": {
      "image/png": "[encoded data removed]",
      "text/plain": [
       "<Figure size 432x288 with 1 Axes>"
      ]
     },
     "metadata": {
      "needs_background": "light"
     },
     "output_type": "display_data"
    }
   ],
   "source": [
    "bike['starttime'] = pd.to_datetime(bike['starttime'])\n",
    "\n",
    "#create new column to get the day name\n",
    "bike['day_name'] = bike['starttime'].dt.day_name()\n",
    "\n",
    "#plotting the subscriber data\n",
    "subsc = bike[(bike['usertype'] == 'Subscriber')]['day_name'].value_counts().sort_index().to_frame('Subscriber')\n",
    "subsc.plot(kind='bar', color='green')\n",
    "\n",
    "#plotting the customer data\n",
    "cust = bike[(bike['usertype'] == 'Customer')]['day_name'].value_counts().sort_index().to_frame('Customer')\n",
    "cust.plot(kind='bar')"
   ]
  },
  {
   "cell_type": "markdown",
   "metadata": {},
   "source": [
    "Based on the chart bar, we can see that the subscriber rides more on weekdays instead of the customer."
   ]
  },
  {
   "cell_type": "markdown",
   "metadata": {},
   "source": [
    "And the customer rides more on weekends."
   ]
  },
  {
   "cell_type": "markdown",
   "metadata": {},
   "source": [
    "# Submit Instructions\n",
    "Rename this notebook to `mod2_<first_name>_<last_name>.ipynb` and push this to your branch in module-2 repository\n",
    "\n",
    "```\n",
    "git checkout -b tanyani\n",
    "git add mod2_tanya_nabila.ipynb\n",
    "git commit -m 'submit mod2 assignment for Tanya Nabila'\n",
    "git push\n",
    "```"
   ]
  },
  {
   "cell_type": "code",
   "execution_count": null,
   "metadata": {},
   "outputs": [],
   "source": []
  }
 ],
 "metadata": {
  "interpreter": {
   "hash": "52b78d8e2db875985b812709016d1a544e51f9f88c2ad8d2c099fce058451922"
  },
  "kernelspec": {
   "display_name": "Python 3",
   "language": "python",
   "name": "python3"
  },
  "language_info": {
   "codemirror_mode": {
    "name": "ipython",
    "version": 3
   },
   "file_extension": ".py",
   "mimetype": "text/x-python",
   "name": "python",
   "nbconvert_exporter": "python",
   "pygments_lexer": "ipython3",
   "version": "3.8.8"
  }
 },
 "nbformat": 4,
 "nbformat_minor": 4
}
